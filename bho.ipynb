{
 "cells": [
  {
   "cell_type": "code",
   "id": "initial_id",
   "metadata": {
    "collapsed": true,
    "jupyter": {
     "is_executing": true
    }
   },
   "source": [
    "import pickle\n",
    "\n",
    "import geneformer.perturber_utils as pu\n",
    "from datasets import load_from_disk\n",
    "from geneformer import TOKEN_DICTIONARY_FILE\n",
    "from torch.utils.tensorboard import SummaryWriter\n",
    "from transformers import AutoTokenizer\n",
    "\n",
    "from lib.data_manager import perturb\n",
    "from lib.modules import DREAMSEncoder\n",
    "\n",
    "writer = SummaryWriter()"
   ],
   "outputs": [],
   "execution_count": null
  },
  {
   "metadata": {
    "ExecuteTime": {
     "end_time": "2025-04-03T14:11:15.368648689Z",
     "start_time": "2025-04-03T14:00:42.025228Z"
    }
   },
   "cell_type": "code",
   "source": [
    "\n",
    "# format to specify perturbations\n",
    "perturbations = {\n",
    "    'ENSG00000066427' : 'overexpress',\n",
    "    'ENSG00000066084':'delete'\n",
    "}\n",
    "\n",
    "# code to load a tokenized dataset and encode it\n",
    "# should go to data manager class\n",
    "\n",
    "\n",
    "dataset = load_from_disk('data/example_data')\n",
    "\n",
    "with open(TOKEN_DICTIONARY_FILE, \"rb\") as f:\n",
    "    gene_token_dict = pickle.load(f)\n",
    "\n",
    "dataset.set_format('torch')\n",
    "subset = dataset[0:8]\n",
    "input_data_minibatch = subset[\"input_ids\"]\n",
    "max_len = int(max(subset[\"length\"]))\n",
    "pad_token_id = gene_token_dict.get(\"<pad>\")\n",
    "model_input_size = 2048\n",
    "\n",
    "input_data_minibatch = pu.pad_tensor_list(\n",
    "    input_data_minibatch, max_len, pad_token_id, model_input_size\n",
    ")\n",
    "\n",
    "perturbed = perturb(subset,perturbations, gene_token_dict)\n",
    "perturbed_minibatch = pu.pad_tensor_list(\n",
    "    input_data_minibatch, max_len, pad_token_id, model_input_size )\n",
    "\n",
    "\"\"\"with torch.no_grad():\n",
    "    outputs = model( input_data_minibatch.to(\"cuda\"),\n",
    "                     pu.gen_attention_mask(subset),\n",
    "                     perturbed_minibatch.to(\"cuda\"),\n",
    "                     pu.gen_attention_mask(perturbed),\n",
    "                     )\n",
    "toplot = PCA(n_components=2).fit_transform(outputs.cpu().detach().numpy())\n",
    "del model\n",
    "torch.cuda.empty_cache()\n",
    "plt.scatter(toplot[:,0], toplot[:,1])\n",
    "\"\"\"\n"
   ],
   "id": "fcd4db6fa3f8c0c",
   "outputs": [
    {
     "data": {
      "text/plain": [
       "'with torch.no_grad():\\n    outputs = model( input_data_minibatch.to(\"cuda\"),\\n                     pu.gen_attention_mask(subset),\\n                     perturbed_minibatch.to(\"cuda\"),\\n                     pu.gen_attention_mask(perturbed),\\n                     )\\ntoplot = PCA(n_components=2).fit_transform(outputs.cpu().detach().numpy())\\ndel model\\ntorch.cuda.empty_cache()\\nplt.scatter(toplot[:,0], toplot[:,1])\\n'"
      ]
     },
     "execution_count": 2,
     "metadata": {},
     "output_type": "execute_result"
    }
   ],
   "execution_count": 2
  },
  {
   "metadata": {
    "ExecuteTime": {
     "end_time": "2025-04-03T14:11:15.370253223Z",
     "start_time": "2025-04-03T14:00:42.174626Z"
    }
   },
   "cell_type": "code",
   "source": [
    "tokenizer = AutoTokenizer.from_pretrained(\"ibm/MoLFormer-XL-both-10pct\", trust_remote_code=True)\n",
    "\n",
    "smiles = [\"Cn1c(=O)c2c(ncn2C)n(C)c1=O\", \"CC(=O)Oc1ccccc1C(=O)O\"]\n",
    "smile_inputs = tokenizer(smiles, padding=True, return_tensors=\"pt\")\n",
    "\"\"\"with torch.no_grad():\n",
    "    outputs = model(**inputs)\"\"\""
   ],
   "id": "eaddb6b9be99d041",
   "outputs": [
    {
     "data": {
      "text/plain": [
       "'with torch.no_grad():\\n    outputs = model(**inputs)'"
      ]
     },
     "execution_count": 3,
     "metadata": {},
     "output_type": "execute_result"
    }
   ],
   "execution_count": 3
  },
  {
   "metadata": {
    "ExecuteTime": {
     "end_time": "2025-04-03T14:11:15.370915388Z",
     "start_time": "2025-04-03T14:00:43.278613Z"
    }
   },
   "cell_type": "code",
   "source": "model = DREAMSEncoder()",
   "id": "8f7c641c0e21f8a8",
   "outputs": [],
   "execution_count": 4
  },
  {
   "metadata": {
    "ExecuteTime": {
     "end_time": "2025-04-03T14:11:15.371359122Z",
     "start_time": "2025-04-03T14:00:45.966469Z"
    }
   },
   "cell_type": "code",
   "source": [
    "model({ 'x':input_data_minibatch.to(\"cuda\"),\n",
    "        'x_attn':pu.gen_attention_mask(subset),\n",
    "        'y': perturbed_minibatch.to(\"cuda\"),\n",
    "        'y_attn': pu.gen_attention_mask(perturbed),\n",
    "        },\n",
    "      smile_inputs.to('cuda')\n",
    "      )"
   ],
   "id": "f1cb12ca5fa47823",
   "outputs": [
    {
     "data": {
      "text/plain": [
       "(tensor([[ 0.0420, -0.0235, -0.0217,  ..., -0.0214, -0.0529, -0.0199],\n",
       "         [ 0.0420, -0.0235, -0.0217,  ..., -0.0214, -0.0529, -0.0199],\n",
       "         [ 0.0420, -0.0235, -0.0217,  ..., -0.0214, -0.0529, -0.0199],\n",
       "         ...,\n",
       "         [ 0.0420, -0.0235, -0.0217,  ..., -0.0214, -0.0529, -0.0199],\n",
       "         [ 0.0420, -0.0235, -0.0217,  ..., -0.0214, -0.0529, -0.0199],\n",
       "         [ 0.0420, -0.0235, -0.0217,  ..., -0.0214, -0.0529, -0.0199]],\n",
       "        device='cuda:0', grad_fn=<AddmmBackward0>),\n",
       " tensor([[-3.4558e-02, -6.0025e-02, -1.4580e-01, -7.5377e-02, -1.0751e+00,\n",
       "          -1.9703e-01,  2.0103e-01, -2.8487e-01, -6.1164e-02,  1.5493e-01,\n",
       "          -1.9034e-01,  3.4944e-01,  4.3032e-01,  1.8438e-01,  3.7300e-01,\n",
       "          -3.0049e-01,  9.9008e-02,  1.4720e-01,  3.6196e-01, -5.0619e-02,\n",
       "          -3.3424e-01, -2.5133e-01, -8.5994e-02, -1.2848e-01,  1.5987e-01,\n",
       "          -7.3626e-02, -4.0117e-02,  5.0431e-01, -3.9033e-01,  2.5837e-01,\n",
       "           3.2908e-01,  4.5762e-02,  7.7540e-02, -5.1747e-01,  1.1460e-01,\n",
       "           4.9059e-01, -2.5287e-03, -8.5920e-02, -2.8837e-01,  1.3982e-01,\n",
       "          -3.4281e-01,  3.2199e-02, -5.3147e-02,  2.8066e-01,  4.3489e-01,\n",
       "           1.1239e-01, -2.6090e-02, -3.8949e-01,  6.1010e-01, -2.7036e-02,\n",
       "          -5.9846e-02,  6.6605e-02,  5.9590e-02,  1.9968e-01, -2.2387e-01,\n",
       "          -2.7653e-01, -1.2690e-01, -1.8975e-02,  2.6288e-01,  7.3342e-02,\n",
       "          -2.1818e-02, -4.2961e-01,  3.6264e-02, -2.2838e-01, -1.7676e-01,\n",
       "          -2.6402e-01,  4.4195e-01, -1.4018e-01, -7.0154e-01,  4.3182e-01,\n",
       "           2.6110e-02, -1.7230e-01,  7.4526e-02, -1.5147e-01, -4.3914e-01,\n",
       "           2.3330e-01,  3.2128e-01,  2.0599e-01,  3.0211e-01, -2.3526e-01,\n",
       "           2.3042e-01,  2.8119e-01,  8.4027e-02, -3.7427e-02,  5.6186e-02,\n",
       "          -3.3382e-01, -1.6160e-01,  1.4371e-01,  2.2869e-02,  2.0384e-01,\n",
       "           7.7774e-01, -1.5265e-01, -1.1451e-01, -4.3297e-01, -7.0854e-01,\n",
       "           4.3007e-01, -8.5704e-01,  3.9777e-01,  1.4413e-01, -2.7253e-02,\n",
       "          -1.1373e-01, -3.7045e-02,  6.6857e-01, -4.3858e-01,  6.2580e-02,\n",
       "           2.2237e-01, -1.6665e-01,  1.1262e-02, -3.1987e-01, -1.8762e-01,\n",
       "          -3.6647e-02, -1.2291e-01,  6.1672e-03,  8.6243e-02,  7.0993e-02,\n",
       "          -5.6006e-01, -1.2109e-01,  2.1644e-02, -4.6568e-02, -1.5899e-01,\n",
       "           2.2438e-01,  5.4304e-01,  5.7726e-01, -7.9081e-02, -2.3864e-01,\n",
       "          -2.2529e-01, -1.3479e-01, -7.4866e-02, -2.3641e-01, -1.1022e-01,\n",
       "           1.6882e-01,  7.5848e-01,  6.9154e-02, -3.8719e-01,  3.0831e-01,\n",
       "           5.0658e-01,  1.2877e-01,  1.3254e-01,  2.4175e-01,  1.1075e-02,\n",
       "           1.4082e-01,  1.9327e-01,  5.7445e-02,  2.3025e-01,  3.6707e-01,\n",
       "          -3.5687e-02, -2.7159e-01, -2.8405e-01,  1.1342e-02,  1.9312e-01,\n",
       "           3.7018e-01,  3.7869e-01,  1.6682e-01, -1.2689e-02, -1.8048e-01,\n",
       "           2.3441e-01, -2.5919e-01,  3.5692e-02,  2.5927e-01, -9.3824e-02,\n",
       "           4.4283e-02,  2.7430e-01, -1.7977e-01, -3.1052e-01,  2.2495e-01,\n",
       "          -7.4511e-02, -2.1914e-01,  2.0946e-02, -1.8643e-01, -5.6232e-01,\n",
       "          -5.6749e-02,  3.9094e-01, -3.6030e-01, -4.3014e-01, -4.9776e-01,\n",
       "           2.9693e-01,  2.5008e-02,  2.3884e-01,  1.3568e-01, -2.8524e-01,\n",
       "           2.4352e-01,  2.1247e-01,  1.8465e-01, -3.2305e-01, -7.6735e-02,\n",
       "           1.9868e-01,  3.8855e-01,  1.4523e-01,  1.7747e-02, -4.0498e-01,\n",
       "          -2.0384e-01,  1.7829e-01,  3.2192e-02,  2.3661e-01,  6.2253e-01,\n",
       "          -4.1347e-02, -1.6197e-01,  4.2738e-01,  3.7725e-01,  2.7070e-01,\n",
       "          -4.4050e-01, -3.6669e-02,  7.3919e-03, -2.0354e-01,  1.0167e-01,\n",
       "           1.8515e-01,  3.8985e-02, -2.8966e-01, -4.0704e-01, -7.0835e-01,\n",
       "           1.5514e-01, -2.0212e-01, -1.7673e-01, -2.0978e-01, -2.0467e-01,\n",
       "          -7.3010e-02, -2.4643e-01,  1.8935e-01,  2.3808e-01, -5.0932e-01,\n",
       "           4.8090e-01, -4.6912e-02, -1.8311e-01, -2.9905e-01, -2.3049e-01,\n",
       "           2.3560e-01,  1.5909e-01,  4.3607e-04,  1.5348e-01, -3.5053e-01,\n",
       "          -3.4411e-01, -1.9096e-01,  6.8909e-02,  1.0306e-01,  8.3945e-02,\n",
       "           6.6557e-01,  1.0583e-01,  3.1027e-02,  3.5681e-01, -6.7271e-03,\n",
       "          -1.7094e-01,  8.8324e-02, -3.4966e-01, -2.3512e-01,  2.5722e-01,\n",
       "          -1.5535e-01,  1.9685e-01, -3.8458e-01,  6.2807e-02, -3.7612e-01,\n",
       "          -3.8009e-02, -4.6860e-01, -3.6148e-01,  2.5144e-01,  1.3047e-01,\n",
       "           5.8395e-01],\n",
       "         [ 3.1073e-02,  1.2525e-01, -7.4287e-02,  5.6561e-02, -1.7722e-01,\n",
       "          -1.0018e-01,  1.5619e-01, -4.4683e-01,  3.2160e-01,  3.3056e-01,\n",
       "          -1.6470e-02,  1.0070e-02,  1.7559e-01,  4.6709e-01,  5.3171e-01,\n",
       "           6.0620e-02,  8.9040e-02,  3.8273e-01,  5.6454e-01, -1.2541e-01,\n",
       "          -2.4753e-02, -6.0440e-01,  1.7414e-01,  2.4129e-02,  1.2771e-01,\n",
       "           2.1836e-02,  2.1590e-01, -4.2177e-02, -3.8984e-02,  4.1574e-02,\n",
       "           6.6777e-02,  7.4214e-02, -7.2243e-02, -2.5040e-01, -1.6449e-02,\n",
       "          -6.9989e-02, -3.6356e-01, -3.8413e-01, -3.4633e-01, -1.3986e-01,\n",
       "           2.7419e-01, -1.0210e-01,  3.5813e-02,  7.0583e-02,  1.0433e-01,\n",
       "          -2.6151e-01,  2.4777e-01,  8.2137e-02,  5.8014e-01,  2.0861e-01,\n",
       "           5.8273e-01, -1.8258e-03,  1.1064e-01,  1.2322e-01, -1.3857e-03,\n",
       "           1.9113e-01, -2.0953e-01, -4.4482e-01,  6.8823e-02, -1.6663e-01,\n",
       "          -1.2270e-01,  8.2626e-03, -2.3448e-01, -2.2701e-01, -2.8678e-01,\n",
       "          -4.0227e-01,  2.9807e-01,  3.3052e-01, -2.7055e-01,  9.5543e-02,\n",
       "          -2.1413e-02,  2.2285e-01, -1.8608e-01,  3.9206e-01,  1.7003e-01,\n",
       "          -1.0168e-01,  1.4590e-01, -3.8259e-01,  2.5226e-01,  2.3201e-02,\n",
       "          -2.0739e-01,  8.1512e-02,  2.2654e-01,  9.3881e-02, -4.0848e-03,\n",
       "          -1.6459e-01,  2.8577e-01,  3.9600e-02,  2.9005e-01, -3.4426e-02,\n",
       "           2.8692e-02,  2.5270e-01, -1.4015e-01, -2.6451e-01, -6.5573e-01,\n",
       "          -2.2995e-01, -1.8291e-01, -9.3628e-02,  1.7862e-01, -2.2996e-01,\n",
       "           1.7445e-01,  2.9906e-01,  3.8805e-01, -2.5912e-01,  5.6387e-01,\n",
       "          -1.1167e-01, -3.6391e-01,  5.3915e-02, -3.2018e-02,  1.2572e-01,\n",
       "           6.9448e-02,  2.2525e-01,  8.5727e-02, -2.9478e-02, -1.5658e-01,\n",
       "          -3.1532e-01, -4.2686e-01,  2.0886e-02,  3.0205e-01,  6.9846e-02,\n",
       "          -3.8347e-01,  4.2066e-01,  5.7458e-01, -8.4590e-02,  3.9821e-01,\n",
       "           1.6668e-01, -1.2189e-01,  4.0948e-02, -8.6764e-02,  1.5903e-01,\n",
       "          -9.2080e-02,  4.3503e-01,  2.4795e-03, -4.9557e-01,  1.3220e-01,\n",
       "           2.1257e-01,  6.8216e-02, -1.6048e-01, -3.5141e-01, -3.5210e-01,\n",
       "           9.3767e-03, -1.2457e-01, -1.2421e-01, -1.6023e-01,  3.6494e-01,\n",
       "          -1.1762e-01,  4.0003e-01,  1.9633e-01,  1.2684e-01, -1.1463e-01,\n",
       "           3.7572e-01, -1.4973e-01,  4.2807e-01,  4.2712e-02, -3.3236e-02,\n",
       "           1.7237e-01, -1.0695e-01, -5.5652e-04,  2.2907e-01,  5.4238e-01,\n",
       "           5.9562e-02, -5.8089e-02, -2.9411e-01, -1.4818e-01,  1.3986e-01,\n",
       "           8.0947e-04, -1.5204e-01, -2.1490e-01, -6.4792e-01, -1.0252e-01,\n",
       "           3.6245e-01,  9.4646e-02, -1.3411e-01, -3.6133e-01, -2.4923e-01,\n",
       "           4.4540e-01, -3.1340e-02,  2.8908e-01, -2.5517e-01, -3.8942e-01,\n",
       "           3.4353e-01,  5.9493e-03,  3.3510e-01, -2.8863e-01, -6.1559e-01,\n",
       "          -3.3859e-01,  3.5373e-02,  2.0662e-01,  4.0477e-02,  8.4940e-03,\n",
       "          -3.1133e-01,  1.7696e-01,  1.5009e-01,  3.3562e-02,  5.2732e-01,\n",
       "          -6.8380e-02, -3.9400e-02, -3.4090e-01, -2.9256e-01,  2.5890e-01,\n",
       "          -3.3013e-01,  2.3376e-01,  8.6547e-02, -5.2738e-01,  2.1591e-01,\n",
       "           7.7147e-02,  1.9147e-01, -1.4170e-01, -5.7917e-02, -1.1408e-01,\n",
       "           2.7803e-03,  2.8254e-01,  1.2297e-01,  2.7115e-01,  3.3357e-01,\n",
       "           5.2699e-02, -1.0116e-01,  2.5899e-01,  1.7846e-01, -5.0393e-02,\n",
       "          -1.7554e-01,  2.1350e-02,  3.3445e-01,  1.1832e-01, -4.0110e-02,\n",
       "           5.9039e-01,  2.2455e-01,  1.3365e-01, -8.1836e-02,  1.0887e-01,\n",
       "          -2.5462e-01, -1.2877e-01,  1.1700e-01, -3.1231e-01, -2.9501e-01,\n",
       "          -1.6093e-01, -1.6115e-01, -1.8453e-01, -1.4937e-01,  2.8179e-01,\n",
       "          -1.4446e-01, -2.4027e-01,  1.9149e-01,  3.1208e-02,  1.6380e-01,\n",
       "          -3.0720e-02, -1.6852e-01, -1.4891e-01,  2.2752e-01, -9.3813e-02,\n",
       "           2.2178e-02, -5.6960e-01, -7.0964e-03,  3.1661e-02,  2.4208e-02,\n",
       "           2.0330e-01]], device='cuda:0', grad_fn=<AddmmBackward0>))"
      ]
     },
     "execution_count": 5,
     "metadata": {},
     "output_type": "execute_result"
    }
   ],
   "execution_count": 5
  },
  {
   "metadata": {
    "ExecuteTime": {
     "end_time": "2025-04-03T14:11:15.372681940Z",
     "start_time": "2025-04-03T14:11:00.104400Z"
    }
   },
   "cell_type": "code",
   "source": [
    "smile_inputs = smile_inputs.to('cuda')\n",
    "writer.add_graph(model, ({ 'x':input_data_minibatch.to(\"cuda\"),\n",
    "                           'x_attn':pu.gen_attention_mask(subset),\n",
    "                           'y': perturbed_minibatch.to(\"cuda\"),\n",
    "                           'y_attn': pu.gen_attention_mask(perturbed),\n",
    "                           },\n",
    "                         {\n",
    "                             'input_ids':smile_inputs['input_ids'],\n",
    "                             'attention_mask':smile_inputs['attention_mask']\n",
    "                         }))\n"
   ],
   "id": "8e25dd7f94afd63d",
   "outputs": [
    {
     "ename": "FileNotFoundError",
     "evalue": "[Errno 2] No such file or directory: b'runs/Apr03_16-00-42_JerkOS/events.out.tfevents.1743688842.JerkOS.8314.0'",
     "output_type": "error",
     "traceback": [
      "\u001B[31m---------------------------------------------------------------------------\u001B[39m",
      "\u001B[31mFileNotFoundError\u001B[39m                         Traceback (most recent call last)",
      "\u001B[36mCell\u001B[39m\u001B[36m \u001B[39m\u001B[32mIn[18]\u001B[39m\u001B[32m, line 2\u001B[39m\n\u001B[32m      1\u001B[39m smile_inputs = smile_inputs.to(\u001B[33m'\u001B[39m\u001B[33mcuda\u001B[39m\u001B[33m'\u001B[39m)\n\u001B[32m----> \u001B[39m\u001B[32m2\u001B[39m \u001B[43mwriter\u001B[49m\u001B[43m.\u001B[49m\u001B[43madd_graph\u001B[49m\u001B[43m(\u001B[49m\u001B[43mmodel\u001B[49m\u001B[43m,\u001B[49m\u001B[43m \u001B[49m\u001B[43m(\u001B[49m\u001B[43m{\u001B[49m\u001B[43m \u001B[49m\u001B[33;43m'\u001B[39;49m\u001B[33;43mx\u001B[39;49m\u001B[33;43m'\u001B[39;49m\u001B[43m:\u001B[49m\u001B[43minput_data_minibatch\u001B[49m\u001B[43m.\u001B[49m\u001B[43mto\u001B[49m\u001B[43m(\u001B[49m\u001B[33;43m\"\u001B[39;49m\u001B[33;43mcuda\u001B[39;49m\u001B[33;43m\"\u001B[39;49m\u001B[43m)\u001B[49m\u001B[43m,\u001B[49m\n\u001B[32m      3\u001B[39m \u001B[43m                           \u001B[49m\u001B[33;43m'\u001B[39;49m\u001B[33;43mx_attn\u001B[39;49m\u001B[33;43m'\u001B[39;49m\u001B[43m:\u001B[49m\u001B[43mpu\u001B[49m\u001B[43m.\u001B[49m\u001B[43mgen_attention_mask\u001B[49m\u001B[43m(\u001B[49m\u001B[43msubset\u001B[49m\u001B[43m)\u001B[49m\u001B[43m,\u001B[49m\n\u001B[32m      4\u001B[39m \u001B[43m                           \u001B[49m\u001B[33;43m'\u001B[39;49m\u001B[33;43my\u001B[39;49m\u001B[33;43m'\u001B[39;49m\u001B[43m:\u001B[49m\u001B[43m \u001B[49m\u001B[43mperturbed_minibatch\u001B[49m\u001B[43m.\u001B[49m\u001B[43mto\u001B[49m\u001B[43m(\u001B[49m\u001B[33;43m\"\u001B[39;49m\u001B[33;43mcuda\u001B[39;49m\u001B[33;43m\"\u001B[39;49m\u001B[43m)\u001B[49m\u001B[43m,\u001B[49m\n\u001B[32m      5\u001B[39m \u001B[43m                           \u001B[49m\u001B[33;43m'\u001B[39;49m\u001B[33;43my_attn\u001B[39;49m\u001B[33;43m'\u001B[39;49m\u001B[43m:\u001B[49m\u001B[43m \u001B[49m\u001B[43mpu\u001B[49m\u001B[43m.\u001B[49m\u001B[43mgen_attention_mask\u001B[49m\u001B[43m(\u001B[49m\u001B[43mperturbed\u001B[49m\u001B[43m)\u001B[49m\u001B[43m,\u001B[49m\n\u001B[32m      6\u001B[39m \u001B[43m                           \u001B[49m\u001B[43m}\u001B[49m\u001B[43m,\u001B[49m\n\u001B[32m      7\u001B[39m \u001B[43m                         \u001B[49m\u001B[43m{\u001B[49m\n\u001B[32m      8\u001B[39m \u001B[43m                             \u001B[49m\u001B[33;43m'\u001B[39;49m\u001B[33;43minput_ids\u001B[39;49m\u001B[33;43m'\u001B[39;49m\u001B[43m:\u001B[49m\u001B[43msmile_inputs\u001B[49m\u001B[43m[\u001B[49m\u001B[33;43m'\u001B[39;49m\u001B[33;43minput_ids\u001B[39;49m\u001B[33;43m'\u001B[39;49m\u001B[43m]\u001B[49m\u001B[43m,\u001B[49m\n\u001B[32m      9\u001B[39m \u001B[43m                             \u001B[49m\u001B[33;43m'\u001B[39;49m\u001B[33;43mattention_mask\u001B[39;49m\u001B[33;43m'\u001B[39;49m\u001B[43m:\u001B[49m\u001B[43msmile_inputs\u001B[49m\u001B[43m[\u001B[49m\u001B[33;43m'\u001B[39;49m\u001B[33;43mattention_mask\u001B[39;49m\u001B[33;43m'\u001B[39;49m\u001B[43m]\u001B[49m\n\u001B[32m     10\u001B[39m \u001B[43m                         \u001B[49m\u001B[43m}\u001B[49m\u001B[43m)\u001B[49m\u001B[43m)\u001B[49m\n",
      "\u001B[36mFile \u001B[39m\u001B[32m~/Projects/DREAMS2/venv/lib/python3.13/site-packages/torch/utils/tensorboard/writer.py:840\u001B[39m, in \u001B[36mSummaryWriter.add_graph\u001B[39m\u001B[34m(self, model, input_to_model, verbose, use_strict_trace)\u001B[39m\n\u001B[32m    838\u001B[39m torch._C._log_api_usage_once(\u001B[33m\"\u001B[39m\u001B[33mtensorboard.logging.add_graph\u001B[39m\u001B[33m\"\u001B[39m)\n\u001B[32m    839\u001B[39m \u001B[38;5;66;03m# A valid PyTorch model should have a 'forward' method\u001B[39;00m\n\u001B[32m--> \u001B[39m\u001B[32m840\u001B[39m \u001B[38;5;28;43mself\u001B[39;49m\u001B[43m.\u001B[49m\u001B[43m_get_file_writer\u001B[49m\u001B[43m(\u001B[49m\u001B[43m)\u001B[49m\u001B[43m.\u001B[49m\u001B[43madd_graph\u001B[49m\u001B[43m(\u001B[49m\n\u001B[32m    841\u001B[39m \u001B[43m    \u001B[49m\u001B[43mgraph\u001B[49m\u001B[43m(\u001B[49m\u001B[43mmodel\u001B[49m\u001B[43m,\u001B[49m\u001B[43m \u001B[49m\u001B[43minput_to_model\u001B[49m\u001B[43m,\u001B[49m\u001B[43m \u001B[49m\u001B[43mverbose\u001B[49m\u001B[43m,\u001B[49m\u001B[43m \u001B[49m\u001B[43muse_strict_trace\u001B[49m\u001B[43m)\u001B[49m\n\u001B[32m    842\u001B[39m \u001B[43m\u001B[49m\u001B[43m)\u001B[49m\n",
      "\u001B[36mFile \u001B[39m\u001B[32m~/Projects/DREAMS2/venv/lib/python3.13/site-packages/torch/utils/tensorboard/writer.py:128\u001B[39m, in \u001B[36mFileWriter.add_graph\u001B[39m\u001B[34m(self, graph_profile, walltime)\u001B[39m\n\u001B[32m    126\u001B[39m stepstats = graph_profile[\u001B[32m1\u001B[39m]\n\u001B[32m    127\u001B[39m event = event_pb2.Event(graph_def=graph.SerializeToString())\n\u001B[32m--> \u001B[39m\u001B[32m128\u001B[39m \u001B[38;5;28;43mself\u001B[39;49m\u001B[43m.\u001B[49m\u001B[43madd_event\u001B[49m\u001B[43m(\u001B[49m\u001B[43mevent\u001B[49m\u001B[43m,\u001B[49m\u001B[43m \u001B[49m\u001B[38;5;28;43;01mNone\u001B[39;49;00m\u001B[43m,\u001B[49m\u001B[43m \u001B[49m\u001B[43mwalltime\u001B[49m\u001B[43m)\u001B[49m\n\u001B[32m    130\u001B[39m trm = event_pb2.TaggedRunMetadata(\n\u001B[32m    131\u001B[39m     tag=\u001B[33m\"\u001B[39m\u001B[33mstep1\u001B[39m\u001B[33m\"\u001B[39m, run_metadata=stepstats.SerializeToString()\n\u001B[32m    132\u001B[39m )\n\u001B[32m    133\u001B[39m event = event_pb2.Event(tagged_run_metadata=trm)\n",
      "\u001B[36mFile \u001B[39m\u001B[32m~/Projects/DREAMS2/venv/lib/python3.13/site-packages/torch/utils/tensorboard/writer.py:99\u001B[39m, in \u001B[36mFileWriter.add_event\u001B[39m\u001B[34m(self, event, step, walltime)\u001B[39m\n\u001B[32m     95\u001B[39m \u001B[38;5;28;01mif\u001B[39;00m step \u001B[38;5;129;01mis\u001B[39;00m \u001B[38;5;129;01mnot\u001B[39;00m \u001B[38;5;28;01mNone\u001B[39;00m:\n\u001B[32m     96\u001B[39m     \u001B[38;5;66;03m# Make sure step is converted from numpy or other formats\u001B[39;00m\n\u001B[32m     97\u001B[39m     \u001B[38;5;66;03m# since protobuf might not convert depending on version\u001B[39;00m\n\u001B[32m     98\u001B[39m     event.step = \u001B[38;5;28mint\u001B[39m(step)\n\u001B[32m---> \u001B[39m\u001B[32m99\u001B[39m \u001B[38;5;28;43mself\u001B[39;49m\u001B[43m.\u001B[49m\u001B[43mevent_writer\u001B[49m\u001B[43m.\u001B[49m\u001B[43madd_event\u001B[49m\u001B[43m(\u001B[49m\u001B[43mevent\u001B[49m\u001B[43m)\u001B[49m\n",
      "\u001B[36mFile \u001B[39m\u001B[32m~/Projects/DREAMS2/venv/lib/python3.13/site-packages/tensorboard/summary/writer/event_file_writer.py:117\u001B[39m, in \u001B[36mEventFileWriter.add_event\u001B[39m\u001B[34m(self, event)\u001B[39m\n\u001B[32m    112\u001B[39m \u001B[38;5;28;01mif\u001B[39;00m \u001B[38;5;129;01mnot\u001B[39;00m \u001B[38;5;28misinstance\u001B[39m(event, event_pb2.Event):\n\u001B[32m    113\u001B[39m     \u001B[38;5;28;01mraise\u001B[39;00m \u001B[38;5;167;01mTypeError\u001B[39;00m(\n\u001B[32m    114\u001B[39m         \u001B[33m\"\u001B[39m\u001B[33mExpected an event_pb2.Event proto, \u001B[39m\u001B[33m\"\u001B[39m\n\u001B[32m    115\u001B[39m         \u001B[33m\"\u001B[39m\u001B[33m but got \u001B[39m\u001B[38;5;132;01m%s\u001B[39;00m\u001B[33m\"\u001B[39m % \u001B[38;5;28mtype\u001B[39m(event)\n\u001B[32m    116\u001B[39m     )\n\u001B[32m--> \u001B[39m\u001B[32m117\u001B[39m \u001B[38;5;28;43mself\u001B[39;49m\u001B[43m.\u001B[49m\u001B[43m_async_writer\u001B[49m\u001B[43m.\u001B[49m\u001B[43mwrite\u001B[49m\u001B[43m(\u001B[49m\u001B[43mevent\u001B[49m\u001B[43m.\u001B[49m\u001B[43mSerializeToString\u001B[49m\u001B[43m(\u001B[49m\u001B[43m)\u001B[49m\u001B[43m)\u001B[49m\n",
      "\u001B[36mFile \u001B[39m\u001B[32m~/Projects/DREAMS2/venv/lib/python3.13/site-packages/tensorboard/summary/writer/event_file_writer.py:171\u001B[39m, in \u001B[36m_AsyncWriter.write\u001B[39m\u001B[34m(self, bytestring)\u001B[39m\n\u001B[32m    166\u001B[39m \u001B[38;5;250m\u001B[39m\u001B[33;03m\"\"\"Enqueue the given bytes to be written asychronously.\"\"\"\u001B[39;00m\n\u001B[32m    167\u001B[39m \u001B[38;5;28;01mwith\u001B[39;00m \u001B[38;5;28mself\u001B[39m._lock:\n\u001B[32m    168\u001B[39m     \u001B[38;5;66;03m# Status of the worker should be checked under the lock to avoid\u001B[39;00m\n\u001B[32m    169\u001B[39m     \u001B[38;5;66;03m# multiple threads passing the check and then switching just before\u001B[39;00m\n\u001B[32m    170\u001B[39m     \u001B[38;5;66;03m# blocking on putting to the queue which might result in a deadlock.\u001B[39;00m\n\u001B[32m--> \u001B[39m\u001B[32m171\u001B[39m     \u001B[38;5;28;43mself\u001B[39;49m\u001B[43m.\u001B[49m\u001B[43m_check_worker_status\u001B[49m\u001B[43m(\u001B[49m\u001B[43m)\u001B[49m\n\u001B[32m    172\u001B[39m     \u001B[38;5;28;01mif\u001B[39;00m \u001B[38;5;28mself\u001B[39m._closed:\n\u001B[32m    173\u001B[39m         \u001B[38;5;28;01mraise\u001B[39;00m \u001B[38;5;167;01mIOError\u001B[39;00m(\u001B[33m\"\u001B[39m\u001B[33mWriter is closed\u001B[39m\u001B[33m\"\u001B[39m)\n",
      "\u001B[36mFile \u001B[39m\u001B[32m~/Projects/DREAMS2/venv/lib/python3.13/site-packages/tensorboard/summary/writer/event_file_writer.py:212\u001B[39m, in \u001B[36m_AsyncWriter._check_worker_status\u001B[39m\u001B[34m(self)\u001B[39m\n\u001B[32m    210\u001B[39m exception = \u001B[38;5;28mself\u001B[39m._worker.exception\n\u001B[32m    211\u001B[39m \u001B[38;5;28;01mif\u001B[39;00m exception \u001B[38;5;129;01mis\u001B[39;00m \u001B[38;5;129;01mnot\u001B[39;00m \u001B[38;5;28;01mNone\u001B[39;00m:\n\u001B[32m--> \u001B[39m\u001B[32m212\u001B[39m     \u001B[38;5;28;01mraise\u001B[39;00m exception\n",
      "\u001B[36mFile \u001B[39m\u001B[32m/usr/lib/python3.13/threading.py:1041\u001B[39m, in \u001B[36mThread._bootstrap_inner\u001B[39m\u001B[34m(self)\u001B[39m\n\u001B[32m   1038\u001B[39m     _sys.setprofile(_profile_hook)\n\u001B[32m   1040\u001B[39m \u001B[38;5;28;01mtry\u001B[39;00m:\n\u001B[32m-> \u001B[39m\u001B[32m1041\u001B[39m     \u001B[38;5;28;43mself\u001B[39;49m\u001B[43m.\u001B[49m\u001B[43mrun\u001B[49m\u001B[43m(\u001B[49m\u001B[43m)\u001B[49m\n\u001B[32m   1042\u001B[39m \u001B[38;5;28;01mexcept\u001B[39;00m:\n\u001B[32m   1043\u001B[39m     \u001B[38;5;28mself\u001B[39m._invoke_excepthook(\u001B[38;5;28mself\u001B[39m)\n",
      "\u001B[36mFile \u001B[39m\u001B[32m~/Projects/DREAMS2/venv/lib/python3.13/site-packages/tensorboard/summary/writer/event_file_writer.py:244\u001B[39m, in \u001B[36m_AsyncWriterThread.run\u001B[39m\u001B[34m(self)\u001B[39m\n\u001B[32m    242\u001B[39m \u001B[38;5;28;01mdef\u001B[39;00m\u001B[38;5;250m \u001B[39m\u001B[34mrun\u001B[39m(\u001B[38;5;28mself\u001B[39m):\n\u001B[32m    243\u001B[39m     \u001B[38;5;28;01mtry\u001B[39;00m:\n\u001B[32m--> \u001B[39m\u001B[32m244\u001B[39m         \u001B[38;5;28;43mself\u001B[39;49m\u001B[43m.\u001B[49m\u001B[43m_run\u001B[49m\u001B[43m(\u001B[49m\u001B[43m)\u001B[49m\n\u001B[32m    245\u001B[39m     \u001B[38;5;28;01mexcept\u001B[39;00m \u001B[38;5;167;01mException\u001B[39;00m \u001B[38;5;28;01mas\u001B[39;00m ex:\n\u001B[32m    246\u001B[39m         \u001B[38;5;28mself\u001B[39m.exception = ex\n",
      "\u001B[36mFile \u001B[39m\u001B[32m~/Projects/DREAMS2/venv/lib/python3.13/site-packages/tensorboard/summary/writer/event_file_writer.py:275\u001B[39m, in \u001B[36m_AsyncWriterThread._run\u001B[39m\u001B[34m(self)\u001B[39m\n\u001B[32m    273\u001B[39m     \u001B[38;5;28;01mif\u001B[39;00m data \u001B[38;5;129;01mis\u001B[39;00m \u001B[38;5;28mself\u001B[39m._shutdown_signal:\n\u001B[32m    274\u001B[39m         \u001B[38;5;28;01mreturn\u001B[39;00m\n\u001B[32m--> \u001B[39m\u001B[32m275\u001B[39m     \u001B[38;5;28;43mself\u001B[39;49m\u001B[43m.\u001B[49m\u001B[43m_record_writer\u001B[49m\u001B[43m.\u001B[49m\u001B[43mwrite\u001B[49m\u001B[43m(\u001B[49m\u001B[43mdata\u001B[49m\u001B[43m)\u001B[49m\n\u001B[32m    276\u001B[39m     \u001B[38;5;28mself\u001B[39m._has_pending_data = \u001B[38;5;28;01mTrue\u001B[39;00m\n\u001B[32m    277\u001B[39m \u001B[38;5;28;01mexcept\u001B[39;00m queue.Empty:\n",
      "\u001B[36mFile \u001B[39m\u001B[32m~/Projects/DREAMS2/venv/lib/python3.13/site-packages/tensorboard/summary/writer/record_writer.py:40\u001B[39m, in \u001B[36mRecordWriter.write\u001B[39m\u001B[34m(self, data)\u001B[39m\n\u001B[32m     38\u001B[39m header_crc = struct.pack(\u001B[33m\"\u001B[39m\u001B[33m<I\u001B[39m\u001B[33m\"\u001B[39m, masked_crc32c(header))\n\u001B[32m     39\u001B[39m footer_crc = struct.pack(\u001B[33m\"\u001B[39m\u001B[33m<I\u001B[39m\u001B[33m\"\u001B[39m, masked_crc32c(data))\n\u001B[32m---> \u001B[39m\u001B[32m40\u001B[39m \u001B[38;5;28;43mself\u001B[39;49m\u001B[43m.\u001B[49m\u001B[43m_writer\u001B[49m\u001B[43m.\u001B[49m\u001B[43mwrite\u001B[49m\u001B[43m(\u001B[49m\u001B[43mheader\u001B[49m\u001B[43m \u001B[49m\u001B[43m+\u001B[49m\u001B[43m \u001B[49m\u001B[43mheader_crc\u001B[49m\u001B[43m \u001B[49m\u001B[43m+\u001B[49m\u001B[43m \u001B[49m\u001B[43mdata\u001B[49m\u001B[43m \u001B[49m\u001B[43m+\u001B[49m\u001B[43m \u001B[49m\u001B[43mfooter_crc\u001B[49m\u001B[43m)\u001B[49m\n",
      "\u001B[36mFile \u001B[39m\u001B[32m~/Projects/DREAMS2/venv/lib/python3.13/site-packages/tensorboard/compat/tensorflow_stub/io/gfile.py:775\u001B[39m, in \u001B[36mGFile.write\u001B[39m\u001B[34m(self, file_content)\u001B[39m\n\u001B[32m    771\u001B[39m         \u001B[38;5;28mself\u001B[39m.write_started = \u001B[38;5;28;01mTrue\u001B[39;00m\n\u001B[32m    773\u001B[39m     \u001B[38;5;28;01melse\u001B[39;00m:\n\u001B[32m    774\u001B[39m         \u001B[38;5;66;03m# append the later chunks\u001B[39;00m\n\u001B[32m--> \u001B[39m\u001B[32m775\u001B[39m         \u001B[38;5;28;43mself\u001B[39;49m\u001B[43m.\u001B[49m\u001B[43mfs\u001B[49m\u001B[43m.\u001B[49m\u001B[43mappend\u001B[49m\u001B[43m(\u001B[49m\u001B[38;5;28;43mself\u001B[39;49m\u001B[43m.\u001B[49m\u001B[43mfilename\u001B[49m\u001B[43m,\u001B[49m\u001B[43m \u001B[49m\u001B[43mfile_content\u001B[49m\u001B[43m,\u001B[49m\u001B[43m \u001B[49m\u001B[38;5;28;43mself\u001B[39;49m\u001B[43m.\u001B[49m\u001B[43mbinary_mode\u001B[49m\u001B[43m)\u001B[49m\n\u001B[32m    776\u001B[39m \u001B[38;5;28;01melse\u001B[39;00m:\n\u001B[32m    777\u001B[39m     \u001B[38;5;66;03m# add to temp file, but wait for flush to write to final filesystem\u001B[39;00m\n\u001B[32m    778\u001B[39m     \u001B[38;5;28;01mif\u001B[39;00m \u001B[38;5;28mself\u001B[39m.write_temp \u001B[38;5;129;01mis\u001B[39;00m \u001B[38;5;28;01mNone\u001B[39;00m:\n",
      "\u001B[36mFile \u001B[39m\u001B[32m~/Projects/DREAMS2/venv/lib/python3.13/site-packages/tensorboard/compat/tensorflow_stub/io/gfile.py:167\u001B[39m, in \u001B[36mLocalFileSystem.append\u001B[39m\u001B[34m(self, filename, file_content, binary_mode)\u001B[39m\n\u001B[32m    159\u001B[39m \u001B[38;5;28;01mdef\u001B[39;00m\u001B[38;5;250m \u001B[39m\u001B[34mappend\u001B[39m(\u001B[38;5;28mself\u001B[39m, filename, file_content, binary_mode=\u001B[38;5;28;01mFalse\u001B[39;00m):\n\u001B[32m    160\u001B[39m \u001B[38;5;250m    \u001B[39m\u001B[33;03m\"\"\"Append string file contents to a file.\u001B[39;00m\n\u001B[32m    161\u001B[39m \n\u001B[32m    162\u001B[39m \u001B[33;03m    Args:\u001B[39;00m\n\u001B[32m   (...)\u001B[39m\u001B[32m    165\u001B[39m \u001B[33;03m        binary_mode: bool, write as binary if True, otherwise text\u001B[39;00m\n\u001B[32m    166\u001B[39m \u001B[33;03m    \"\"\"\u001B[39;00m\n\u001B[32m--> \u001B[39m\u001B[32m167\u001B[39m     \u001B[38;5;28;43mself\u001B[39;49m\u001B[43m.\u001B[49m\u001B[43m_write\u001B[49m\u001B[43m(\u001B[49m\u001B[43mfilename\u001B[49m\u001B[43m,\u001B[49m\u001B[43m \u001B[49m\u001B[43mfile_content\u001B[49m\u001B[43m,\u001B[49m\u001B[43m \u001B[49m\u001B[33;43m\"\u001B[39;49m\u001B[33;43mab\u001B[39;49m\u001B[33;43m\"\u001B[39;49m\u001B[43m \u001B[49m\u001B[38;5;28;43;01mif\u001B[39;49;00m\u001B[43m \u001B[49m\u001B[43mbinary_mode\u001B[49m\u001B[43m \u001B[49m\u001B[38;5;28;43;01melse\u001B[39;49;00m\u001B[43m \u001B[49m\u001B[33;43m\"\u001B[39;49m\u001B[33;43ma\u001B[39;49m\u001B[33;43m\"\u001B[39;49m\u001B[43m)\u001B[49m\n",
      "\u001B[36mFile \u001B[39m\u001B[32m~/Projects/DREAMS2/venv/lib/python3.13/site-packages/tensorboard/compat/tensorflow_stub/io/gfile.py:171\u001B[39m, in \u001B[36mLocalFileSystem._write\u001B[39m\u001B[34m(self, filename, file_content, mode)\u001B[39m\n\u001B[32m    169\u001B[39m \u001B[38;5;28;01mdef\u001B[39;00m\u001B[38;5;250m \u001B[39m\u001B[34m_write\u001B[39m(\u001B[38;5;28mself\u001B[39m, filename, file_content, mode):\n\u001B[32m    170\u001B[39m     encoding = \u001B[38;5;28;01mNone\u001B[39;00m \u001B[38;5;28;01mif\u001B[39;00m \u001B[33m\"\u001B[39m\u001B[33mb\u001B[39m\u001B[33m\"\u001B[39m \u001B[38;5;129;01min\u001B[39;00m mode \u001B[38;5;28;01melse\u001B[39;00m \u001B[33m\"\u001B[39m\u001B[33mutf8\u001B[39m\u001B[33m\"\u001B[39m\n\u001B[32m--> \u001B[39m\u001B[32m171\u001B[39m     \u001B[38;5;28;01mwith\u001B[39;00m \u001B[43mio\u001B[49m\u001B[43m.\u001B[49m\u001B[43mopen\u001B[49m\u001B[43m(\u001B[49m\u001B[43mfilename\u001B[49m\u001B[43m,\u001B[49m\u001B[43m \u001B[49m\u001B[43mmode\u001B[49m\u001B[43m,\u001B[49m\u001B[43m \u001B[49m\u001B[43mencoding\u001B[49m\u001B[43m=\u001B[49m\u001B[43mencoding\u001B[49m\u001B[43m)\u001B[49m \u001B[38;5;28;01mas\u001B[39;00m f:\n\u001B[32m    172\u001B[39m         compatify = compat.as_bytes \u001B[38;5;28;01mif\u001B[39;00m \u001B[33m\"\u001B[39m\u001B[33mb\u001B[39m\u001B[33m\"\u001B[39m \u001B[38;5;129;01min\u001B[39;00m mode \u001B[38;5;28;01melse\u001B[39;00m compat.as_text\n\u001B[32m    173\u001B[39m         f.write(compatify(file_content))\n",
      "\u001B[31mFileNotFoundError\u001B[39m: [Errno 2] No such file or directory: b'runs/Apr03_16-00-42_JerkOS/events.out.tfevents.1743688842.JerkOS.8314.0'"
     ]
    }
   ],
   "execution_count": 18
  }
 ],
 "metadata": {
  "kernelspec": {
   "display_name": "Python 3",
   "language": "python",
   "name": "python3"
  },
  "language_info": {
   "codemirror_mode": {
    "name": "ipython",
    "version": 2
   },
   "file_extension": ".py",
   "mimetype": "text/x-python",
   "name": "python",
   "nbconvert_exporter": "python",
   "pygments_lexer": "ipython2",
   "version": "2.7.6"
  }
 },
 "nbformat": 4,
 "nbformat_minor": 5
}
