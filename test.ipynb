{
 "cells": [
  {
   "cell_type": "code",
   "id": "initial_id",
   "metadata": {
    "collapsed": true,
    "ExecuteTime": {
     "end_time": "2025-04-04T14:40:56.337743Z",
     "start_time": "2025-04-04T14:40:53.322827Z"
    }
   },
   "source": [
    "from lib.data_manager import DREAMSDataset\n",
    "from lib.modules import DREAMSEncoder, CLIPLoss\n",
    "from lib.training import train"
   ],
   "outputs": [],
   "execution_count": 1
  },
  {
   "metadata": {
    "ExecuteTime": {
     "end_time": "2025-04-04T14:40:59.455952Z",
     "start_time": "2025-04-04T14:40:56.340818Z"
    }
   },
   "cell_type": "code",
   "source": [
    "ds = DREAMSDataset(\n",
    "    drugs_data_path='data/drug_data.json',\n",
    "    model_input_size=2048,\n",
    "    temp_dir='data/example_data',\n",
    ")\n",
    "\n",
    "model = DREAMSEncoder()\n",
    "loss = CLIPLoss()"
   ],
   "id": "96f0249f796b5bc4",
   "outputs": [],
   "execution_count": 2
  },
  {
   "metadata": {
    "ExecuteTime": {
     "end_time": "2025-04-04T14:40:59.499145Z",
     "start_time": "2025-04-04T14:40:59.497522Z"
    }
   },
   "cell_type": "code",
   "source": [
    "drug_id = 'AZD4635'\n",
    "cell_id = 0\n",
    "ds.indices.append((cell_id, drug_id))\n",
    "ds.indices.append((cell_id, drug_id))"
   ],
   "id": "33c925f506c89a3d",
   "outputs": [],
   "execution_count": 3
  },
  {
   "metadata": {
    "ExecuteTime": {
     "end_time": "2025-04-04T14:41:02.964690Z",
     "start_time": "2025-04-04T14:40:59.541440Z"
    }
   },
   "cell_type": "code",
   "source": "train(model, loss, ds, ds, batch_size=1, n_epochs=2)",
   "id": "d31e871d2c62dcb4",
   "outputs": [
    {
     "name": "stderr",
     "output_type": "stream",
     "text": [
      "`loss_type=None` was set in the config but it is unrecognised.Using the default loss: `ForCausalLMLoss`.\n",
      "/home/jerko/.cache/huggingface/modules/transformers_modules/ibm/MoLFormer-XL-both-10pct/7b12d946c181a37f6012b9dc3b002275de070314/modeling_molformer.py:98: TracerWarning: Converting a tensor to a Python boolean might cause the trace to be incorrect. We can't record the data flow of Python values, so this value will be treated as a constant in the future. This means that the trace might not generalize to other inputs!\n",
      "  if seq_len > self.max_seq_len_cached:\n",
      "epoch 0: Training: 100%|██████████| 2/2 [00:00<00:00,  6.88it/s]\n"
     ]
    },
    {
     "name": "stdout",
     "output_type": "stream",
     "text": [
      "Training loss: 0.0000\n"
     ]
    },
    {
     "name": "stderr",
     "output_type": "stream",
     "text": [
      "epoch 0: Testing:   0%|          | 0/2 [00:00<?, ?it/s]"
     ]
    },
    {
     "name": "stdout",
     "output_type": "stream",
     "text": [
      "Test loss: 0.0000\n"
     ]
    },
    {
     "name": "stderr",
     "output_type": "stream",
     "text": [
      "epoch 0: Testing: 100%|██████████| 2/2 [00:00<00:00,  7.47it/s]\n"
     ]
    },
    {
     "name": "stdout",
     "output_type": "stream",
     "text": [
      "Test loss: 0.0000\n"
     ]
    },
    {
     "name": "stderr",
     "output_type": "stream",
     "text": [
      "epoch 1: Training: 100%|██████████| 2/2 [00:00<00:00, 17.05it/s]\n"
     ]
    },
    {
     "name": "stdout",
     "output_type": "stream",
     "text": [
      "Training loss: 0.0000\n"
     ]
    },
    {
     "name": "stderr",
     "output_type": "stream",
     "text": [
      "epoch 1: Testing: 100%|██████████| 2/2 [00:00<00:00, 46.48it/s]\n"
     ]
    },
    {
     "name": "stdout",
     "output_type": "stream",
     "text": [
      "Test loss: 0.0000\n",
      "Test loss: 0.0000\n"
     ]
    }
   ],
   "execution_count": 4
  },
  {
   "metadata": {
    "ExecuteTime": {
     "end_time": "2025-04-04T14:41:02.973809Z",
     "start_time": "2025-04-04T14:41:02.970188Z"
    }
   },
   "cell_type": "code",
   "source": "ds.transcriptome[0]",
   "id": "56c5b483b0cb35a5",
   "outputs": [
    {
     "data": {
      "text/plain": [
       "{'cell_type': 'B cell (Plasmocyte)',\n",
       " 'input_ids': tensor([12551, 15190,  5071,  ..., 10887,  8385,  8008]),\n",
       " 'length': tensor(1298),\n",
       " 'organ_major': 'spleen'}"
      ]
     },
     "execution_count": 5,
     "metadata": {},
     "output_type": "execute_result"
    }
   ],
   "execution_count": 5
  },
  {
   "metadata": {
    "ExecuteTime": {
     "end_time": "2025-04-04T14:41:03.018928Z",
     "start_time": "2025-04-04T14:41:03.017047Z"
    }
   },
   "cell_type": "code",
   "source": "ds.drugs[drug_id]",
   "id": "cc8596d3fe43b37b",
   "outputs": [
    {
     "data": {
      "text/plain": [
       "{'targets': {'ENSG00000165029': 'inhibitor',\n",
       "  'ENSG00000128271': 'inhibitor',\n",
       "  'ENSG00000107331': 'inhibitor',\n",
       "  'ENSG00000183044': 'inhibitor'},\n",
       " 'SMILES': 'CC1=CC(=CC(=N1)Cl)C2=C(N=C(N=N2)N)C3=CC=C(C=C3)F'}"
      ]
     },
     "execution_count": 6,
     "metadata": {},
     "output_type": "execute_result"
    }
   ],
   "execution_count": 6
  },
  {
   "metadata": {
    "ExecuteTime": {
     "end_time": "2025-04-04T14:41:03.066283Z",
     "start_time": "2025-04-04T14:41:03.064501Z"
    }
   },
   "cell_type": "code",
   "source": "ds.indices",
   "id": "4c2a5b77f50c0cec",
   "outputs": [
    {
     "data": {
      "text/plain": [
       "[(0, 'AZD4635'), (0, 'AZD4635')]"
      ]
     },
     "execution_count": 7,
     "metadata": {},
     "output_type": "execute_result"
    }
   ],
   "execution_count": 7
  }
 ],
 "metadata": {
  "kernelspec": {
   "display_name": "Python 3",
   "language": "python",
   "name": "python3"
  },
  "language_info": {
   "codemirror_mode": {
    "name": "ipython",
    "version": 2
   },
   "file_extension": ".py",
   "mimetype": "text/x-python",
   "name": "python",
   "nbconvert_exporter": "python",
   "pygments_lexer": "ipython2",
   "version": "2.7.6"
  }
 },
 "nbformat": 4,
 "nbformat_minor": 5
}
