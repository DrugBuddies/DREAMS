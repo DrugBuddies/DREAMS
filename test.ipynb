{
 "cells": [
  {
   "cell_type": "code",
   "id": "initial_id",
   "metadata": {
    "collapsed": true,
    "ExecuteTime": {
     "end_time": "2025-04-04T10:50:16.316668Z",
     "start_time": "2025-04-04T10:50:08.859995Z"
    }
   },
   "source": [
    "from lib.data_manager import DREAMSDataset\n",
    "from lib.modules import DREAMSEncoder\n",
    "from torch.utils.data import DataLoader"
   ],
   "outputs": [],
   "execution_count": 1
  },
  {
   "metadata": {
    "ExecuteTime": {
     "end_time": "2025-04-04T10:50:17.822854Z",
     "start_time": "2025-04-04T10:50:16.322425Z"
    }
   },
   "cell_type": "code",
   "source": [
    "ds = DREAMSDataset(\n",
    "    drugs_data_path='data/drug_data.json',\n",
    "    model_input_size=2048,\n",
    "    temp_dir='data/example_data',\n",
    ")"
   ],
   "id": "96f0249f796b5bc4",
   "outputs": [],
   "execution_count": 2
  },
  {
   "metadata": {
    "ExecuteTime": {
     "end_time": "2025-04-04T10:50:17.924369Z",
     "start_time": "2025-04-04T10:50:17.921167Z"
    }
   },
   "cell_type": "code",
   "source": [
    "drug_id = 'AZD4635'\n",
    "cell_id = 0\n",
    "ds.indices.append((cell_id, drug_id))\n",
    "ds.indices.append((cell_id, drug_id))"
   ],
   "id": "33c925f506c89a3d",
   "outputs": [],
   "execution_count": 3
  },
  {
   "metadata": {
    "ExecuteTime": {
     "end_time": "2025-04-04T10:50:17.977992Z",
     "start_time": "2025-04-04T10:50:17.966965Z"
    }
   },
   "cell_type": "code",
   "source": "ds.transcriptome[0]",
   "id": "56c5b483b0cb35a5",
   "outputs": [
    {
     "data": {
      "text/plain": [
       "{'cell_type': 'B cell (Plasmocyte)',\n",
       " 'input_ids': tensor([12551, 15190,  5071,  ..., 10887,  8385,  8008]),\n",
       " 'length': tensor(1298),\n",
       " 'organ_major': 'spleen'}"
      ]
     },
     "execution_count": 4,
     "metadata": {},
     "output_type": "execute_result"
    }
   ],
   "execution_count": 4
  },
  {
   "metadata": {
    "ExecuteTime": {
     "end_time": "2025-04-04T10:50:18.079079Z",
     "start_time": "2025-04-04T10:50:18.074738Z"
    }
   },
   "cell_type": "code",
   "source": "ds.drugs[drug_id]",
   "id": "cc8596d3fe43b37b",
   "outputs": [
    {
     "data": {
      "text/plain": [
       "{'targets': {'ENSG00000165029': 'inhibitor',\n",
       "  'ENSG00000128271': 'inhibitor',\n",
       "  'ENSG00000107331': 'inhibitor',\n",
       "  'ENSG00000183044': 'inhibitor'},\n",
       " 'SMILES': 'CC1=CC(=CC(=N1)Cl)C2=C(N=C(N=N2)N)C3=CC=C(C=C3)F'}"
      ]
     },
     "execution_count": 5,
     "metadata": {},
     "output_type": "execute_result"
    }
   ],
   "execution_count": 5
  },
  {
   "metadata": {
    "ExecuteTime": {
     "end_time": "2025-04-04T10:50:18.190119Z",
     "start_time": "2025-04-04T10:50:18.185628Z"
    }
   },
   "cell_type": "code",
   "source": "ds.indices",
   "id": "4c2a5b77f50c0cec",
   "outputs": [
    {
     "data": {
      "text/plain": [
       "[(0, 'AZD4635'), (0, 'AZD4635')]"
      ]
     },
     "execution_count": 6,
     "metadata": {},
     "output_type": "execute_result"
    }
   ],
   "execution_count": 6
  },
  {
   "metadata": {
    "ExecuteTime": {
     "end_time": "2025-04-04T10:51:00.028328Z",
     "start_time": "2025-04-04T10:50:57.592505Z"
    }
   },
   "cell_type": "code",
   "source": [
    "model = DREAMSEncoder()\n",
    "dl = DataLoader(ds, batch_size=2, shuffle=True)\n",
    "for batch_idx, (cell, pert, drug ) in enumerate(dl):\n",
    "    c_ids, c_attn = ds.tokenize_cells(cell)\n",
    "    p_ids, p_attn = ds.tokenize_cells(pert)\n",
    "    d_tok = ds.tokenize_drugs(drug)\n",
    "\n",
    "    emb_pert, emb_drug = model({\n",
    "        'x': c_ids.to('cuda'),\n",
    "        'x_attn': c_attn.to('cuda'),\n",
    "        'y': p_ids.to('cuda'),\n",
    "        'y_attn': p_attn.to('cuda')\n",
    "    }, d_tok.to('cuda'))"
   ],
   "id": "89bbdaac67fd0629",
   "outputs": [
    {
     "name": "stderr",
     "output_type": "stream",
     "text": [
      "If padding style is constant, must provide integer value. Setting padding to max input size 2048.\n",
      "If padding style is constant, must provide integer value. Setting padding to max input size 2048.\n"
     ]
    }
   ],
   "execution_count": 8
  }
 ],
 "metadata": {
  "kernelspec": {
   "display_name": "Python 3",
   "language": "python",
   "name": "python3"
  },
  "language_info": {
   "codemirror_mode": {
    "name": "ipython",
    "version": 2
   },
   "file_extension": ".py",
   "mimetype": "text/x-python",
   "name": "python",
   "nbconvert_exporter": "python",
   "pygments_lexer": "ipython2",
   "version": "2.7.6"
  }
 },
 "nbformat": 4,
 "nbformat_minor": 5
}
