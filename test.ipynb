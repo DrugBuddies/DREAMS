{
 "cells": [
  {
   "cell_type": "code",
   "id": "initial_id",
   "metadata": {
    "collapsed": true
   },
   "source": [
    "from lib.data_manager import DREAMSDataset, DREAMSCollator\n",
    "from lib.modules import DREAMSEncoder, CLIPLoss\n",
    "from lib.training import train\n",
    "from torch.utils.data import random_split"
   ],
   "outputs": [],
   "execution_count": null
  },
  {
   "metadata": {},
   "cell_type": "code",
   "source": [
    "ds = DREAMSDataset('data/interaction_new.pkl', 4096, 'data/rna-seq/tokenized/tokenized.dataset', n_drugs=10)\n",
    "collator = DREAMSCollator(ds, 'cuda')\n",
    "model = DREAMSEncoder()\n",
    "loss = CLIPLoss()\n",
    "train_dataset, test_dataset = random_split(ds, [.8, .2])"
   ],
   "id": "96f0249f796b5bc4",
   "outputs": [],
   "execution_count": null
  },
  {
   "metadata": {},
   "cell_type": "code",
   "source": "train(model, loss, train_dataset, test_dataset, collator)",
   "id": "180c41e39e82ec33",
   "outputs": [],
   "execution_count": null
  }
 ],
 "metadata": {
  "kernelspec": {
   "display_name": "Python 3",
   "language": "python",
   "name": "python3"
  },
  "language_info": {
   "codemirror_mode": {
    "name": "ipython",
    "version": 2
   },
   "file_extension": ".py",
   "mimetype": "text/x-python",
   "name": "python",
   "nbconvert_exporter": "python",
   "pygments_lexer": "ipython2",
   "version": "2.7.6"
  }
 },
 "nbformat": 4,
 "nbformat_minor": 5
}
