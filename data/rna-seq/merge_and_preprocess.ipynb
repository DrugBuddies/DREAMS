{
 "cells": [
  {
   "cell_type": "code",
   "id": "initial_id",
   "metadata": {
    "collapsed": true,
    "ExecuteTime": {
     "end_time": "2025-04-14T11:40:54.471874Z",
     "start_time": "2025-04-14T11:40:47.203740Z"
    }
   },
   "source": [
    "import scanpy as sc\n",
    "import os\n",
    "import anndata as ad\n",
    "from tqdm import tqdm\n",
    "from mygene import MyGeneInfo\n",
    "from lib.data_manager import tokenize_h5ad"
   ],
   "outputs": [],
   "execution_count": 1
  },
  {
   "metadata": {},
   "cell_type": "markdown",
   "source": "",
   "id": "3a2235d6ab1bb47f"
  },
  {
   "metadata": {
    "ExecuteTime": {
     "end_time": "2025-04-14T11:40:54.482409Z",
     "start_time": "2025-04-14T11:40:54.477149Z"
    }
   },
   "cell_type": "code",
   "source": [
    "def convert_gene_names(genes_symbol):\n",
    "    mg = MyGeneInfo()\n",
    "    # Prende i primi 10 geni unici\n",
    "    query_result = mg.querymany(genes_symbol, scopes=\"symbol\", fields=\"ensembl.gene\", species=\"human\")\n",
    "    conversions = {}\n",
    "    for q in query_result:\n",
    "        if  q['query'] in conversions.keys() or 'ensembl' not in q.keys():\n",
    "            continue\n",
    "        if isinstance(q['ensembl'], list):\n",
    "            conversions[q['query']] = q['ensembl'][0]['gene']\n",
    "        else:\n",
    "            conversions[q['query']] = q['ensembl']['gene']\n",
    "\n",
    "    return [  conversions[g] if g in conversions.keys() else 'Not Found'  for g in genes_symbol]\n"
   ],
   "id": "25b374f73c676c2b",
   "outputs": [],
   "execution_count": 2
  },
  {
   "metadata": {
    "ExecuteTime": {
     "end_time": "2025-04-14T11:42:17.253562Z",
     "start_time": "2025-04-14T11:41:38.669838Z"
    }
   },
   "cell_type": "code",
   "source": [
    "res = []\n",
    "for fname in tqdm(os.listdir('mtx')):\n",
    "    if not fname.endswith('.txt'):\n",
    "        continue\n",
    "    data = sc.read_csv('mtx/' + fname,delimiter='\\t')\n",
    "    data.var['cell_line'] = fname.split('.')[0]\n",
    "    res.append(data)\n",
    "\n",
    "res = ad.concat(res,axis=1)"
   ],
   "id": "44b519f09e2ece2b",
   "outputs": [
    {
     "name": "stderr",
     "output_type": "stream",
     "text": [
      "100%|██████████| 14/14 [00:38<00:00,  2.73s/it]\n"
     ]
    }
   ],
   "execution_count": 5
  },
  {
   "metadata": {
    "ExecuteTime": {
     "end_time": "2025-04-14T11:42:24.660974Z",
     "start_time": "2025-04-14T11:42:24.652493Z"
    }
   },
   "cell_type": "code",
   "source": "",
   "id": "363ea72ffcabf6fc",
   "outputs": [
    {
     "data": {
      "text/plain": [
       "AnnData object with n_obs × n_vars = 15994 × 8848\n",
       "    var: 'cell_line'"
      ]
     },
     "execution_count": 6,
     "metadata": {},
     "output_type": "execute_result"
    }
   ],
   "execution_count": 6
  },
  {
   "metadata": {
    "ExecuteTime": {
     "end_time": "2025-04-14T11:43:22.540890Z",
     "start_time": "2025-04-14T11:42:45.195482Z"
    }
   },
   "cell_type": "code",
   "source": [
    "ensemblids = convert_gene_names(list(res.obs.index))\n",
    "res1 = res[[c != 'Not Found' for c in ensemblids],:]\n",
    "res1.obs['ensembl_id'] = [ c for c in ensemblids if c != 'Not Found' ]\n",
    "res1.var['n_counts'] = res1.X.sum(axis=0)"
   ],
   "id": "e6d4b95d3146aa64",
   "outputs": [
    {
     "name": "stderr",
     "output_type": "stream",
     "text": [
      "Input sequence provided is already in string format. No operation performed\n",
      "Input sequence provided is already in string format. No operation performed\n",
      "200 input query terms found dup hits:\t[('LINC00115', 2), ('SLC35E2A', 2), ('TNFRSF14-AS1', 3), ('CAMTA1-DT', 2), ('LINC01355', 3), ('NFYC-\n",
      "2356 input query terms found no hit:\t['AL390719.2', 'AL645728.1', 'AL691432.2', 'FO704657.1', 'AL109917.1', 'AL590822.2', 'AL139246.5', '\n",
      "/tmp/ipykernel_15063/3829315464.py:3: ImplicitModificationWarning: Trying to modify attribute `.obs` of view, initializing view as actual.\n",
      "  res1.obs['ensembl_id'] = [ c for c in ensemblids if c != 'Not Found' ]\n"
     ]
    }
   ],
   "execution_count": 7
  },
  {
   "metadata": {
    "ExecuteTime": {
     "end_time": "2025-04-14T11:07:42.939711Z",
     "start_time": "2025-04-14T11:07:42.095561Z"
    }
   },
   "cell_type": "code",
   "source": "res1.T.write_h5ad('merged/rna-seq.h5ad')",
   "id": "778236f044cb05d2",
   "outputs": [],
   "execution_count": 30
  },
  {
   "metadata": {
    "ExecuteTime": {
     "end_time": "2025-04-14T11:08:21.433160Z",
     "start_time": "2025-04-14T11:07:45.787467Z"
    }
   },
   "cell_type": "code",
   "source": "tokenize_h5ad('merged', 'tokenized')",
   "id": "cdea4ab1c52e302c",
   "outputs": [
    {
     "name": "stdout",
     "output_type": "stream",
     "text": [
      "Tokenizing merged/rna-seq.h5ad\n"
     ]
    },
    {
     "name": "stderr",
     "output_type": "stream",
     "text": [
      "/home/jerko/Projects/DREAMS2/venv/lib/python3.13/site-packages/geneformer/tokenizer.py:495: FutureWarning: Series.__getitem__ treating keys as positions is deprecated. In a future version, integer keys will always be treated as labels (consistent with DataFrame behavior). To access a value by position, use `ser.iloc[pos]`\n",
      "  for i in adata.var[\"ensembl_id_collapsed\"][coding_miRNA_loc]\n",
      "/home/jerko/Projects/DREAMS2/venv/lib/python3.13/site-packages/geneformer/tokenizer.py:498: FutureWarning: Series.__getitem__ treating keys as positions is deprecated. In a future version, integer keys will always be treated as labels (consistent with DataFrame behavior). To access a value by position, use `ser.iloc[pos]`\n",
      "  coding_miRNA_ids = adata.var[\"ensembl_id_collapsed\"][coding_miRNA_loc]\n"
     ]
    },
    {
     "name": "stdout",
     "output_type": "stream",
     "text": [
      "merged/rna-seq.h5ad has no column attribute 'filter_pass'; tokenizing all cells.\n",
      "Creating dataset.\n"
     ]
    }
   ],
   "execution_count": 31
  }
 ],
 "metadata": {
  "kernelspec": {
   "display_name": "Python 3",
   "language": "python",
   "name": "python3"
  },
  "language_info": {
   "codemirror_mode": {
    "name": "ipython",
    "version": 2
   },
   "file_extension": ".py",
   "mimetype": "text/x-python",
   "name": "python",
   "nbconvert_exporter": "python",
   "pygments_lexer": "ipython2",
   "version": "2.7.6"
  }
 },
 "nbformat": 4,
 "nbformat_minor": 5
}
